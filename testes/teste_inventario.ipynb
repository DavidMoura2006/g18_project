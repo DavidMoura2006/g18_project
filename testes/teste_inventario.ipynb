{
  "nbformat": 4,
  "nbformat_minor": 0,
  "metadata": {
    "colab": {
      "provenance": []
    },
    "kernelspec": {
      "name": "python3",
      "display_name": "Python 3"
    },
    "language_info": {
      "name": "python"
    }
  },
  "cells": [
    {
      "cell_type": "code",
      "execution_count": null,
      "metadata": {
        "colab": {
          "base_uri": "https://localhost:8080/"
        },
        "id": "B_HG8Mp5kpHh",
        "outputId": "5623d04c-31ab-406b-dbe8-d51fa9de13e2"
      },
      "outputs": [
        {
          "output_type": "stream",
          "name": "stdout",
          "text": [
            "Mounted at /content/drive\n"
          ]
        }
      ],
      "source": [
        "from google.colab import drive\n",
        "drive.mount('/content/drive')"
      ]
    },
    {
      "cell_type": "code",
      "source": [
        "import os\n",
        "os.chdir('/content/drive/MyDrive/trabalho de grupo/spyder/classes_criadas')\n",
        "\n",
        "import os\n",
        "os.chdir('/content/drive/MyDrive/trabalho de grupo/spyder/classes_criadas')\n",
        "\n",
        "import sys\n",
        "sys.path.append('/content/drive/MyDrive/trabalho de grupo/spyder/classes_criadas')\n",
        "sys.path.append('/content/drive/MyDrive/trabalho de grupo/spyder/classes_criadas/classes')\n",
        "\n",
        "from factorys import Factory\n",
        "from machines import Machine\n",
        "from inventory_6 import Inventory\n",
        "\n",
        "f1 = Factory(1, \"Fábrica XPTO\", \"Lisboa\")\n",
        "m1 = Machine(1, \"Máquina 1\", 300, \"01/01/2021\")\n",
        "\n",
        "# Agora testamos o Inventory\n",
        "inv = Inventory(1, 1, 1)\n",
        "\n",
        "# Verificar o inventário\n",
        "print(inv)\n",
        "print(inv.id, inv.factory_id, inv.machine_id)\n",
        "print(Inventory.lst)\n",
        "print(Inventory.obj)"
      ],
      "metadata": {
        "colab": {
          "base_uri": "https://localhost:8080/"
        },
        "id": "oSXdcsUQk_zX",
        "outputId": "fe2a1293-0eb0-42f6-aa7f-f2f37fcb0254"
      },
      "execution_count": null,
      "outputs": [
        {
          "output_type": "stream",
          "name": "stdout",
          "text": [
            "1;1;1\n",
            "1 1 1\n",
            "[1]\n",
            "{1: <inventory_6.Inventory object at 0x7a667305ca10>}\n"
          ]
        }
      ]
    }
  ]
}