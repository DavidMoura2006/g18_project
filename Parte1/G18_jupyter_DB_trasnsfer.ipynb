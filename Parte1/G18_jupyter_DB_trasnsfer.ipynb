{
 "cells": [
  {
   "cell_type": "code",
   "execution_count": 5,
   "id": "17e1135b-0d21-408c-b5cc-9a9a4c2c58e2",
   "metadata": {},
   "outputs": [],
   "source": [
    "import pandas as pd\n",
    "import sqlite3"
   ]
  },
  {
   "cell_type": "code",
   "execution_count": 6,
   "id": "474eea41-c161-4081-b203-ac7a6c0c899b",
   "metadata": {},
   "outputs": [],
   "source": [
    "df = pd.read_csv('G18_Manufacturing – Factories  Machines with Maintenance Logs_merged.csv', sep=';')  # Substitua 'seu_arquivo.csv' pelo nome do seu arquivo"
   ]
  },
  {
   "cell_type": "code",
   "execution_count": 7,
   "id": "92cb0981-0db1-4fdc-8175-6cf853fb2507",
   "metadata": {},
   "outputs": [],
   "source": [
    "conn = sqlite3.connect('Teste.db')"
   ]
  },
  {
   "cell_type": "code",
   "execution_count": 8,
   "id": "6aa3a12b-aaff-40e6-a2d9-c741d4fc6882",
   "metadata": {},
   "outputs": [
    {
     "data": {
      "text/plain": [
       "800"
      ]
     },
     "execution_count": 8,
     "metadata": {},
     "output_type": "execute_result"
    }
   ],
   "source": [
    "df.to_sql('G18_Manufacturing', conn, if_exists='replace', index=False) "
   ]
  },
  {
   "cell_type": "code",
   "execution_count": 9,
   "id": "7b196ced-7df4-4d4d-a686-d08f39b59f75",
   "metadata": {},
   "outputs": [
    {
     "name": "stderr",
     "output_type": "stream",
     "text": [
      "C:\\Users\\zefon\\AppData\\Local\\Temp\\ipykernel_13368\\846194755.py:3: SettingWithCopyWarning: \n",
      "A value is trying to be set on a copy of a slice from a DataFrame\n",
      "\n",
      "See the caveats in the documentation: https://pandas.pydata.org/pandas-docs/stable/user_guide/indexing.html#returning-a-view-versus-a-copy\n",
      "  df_Factory.drop_duplicates(inplace=True)\n"
     ]
    },
    {
     "data": {
      "text/plain": [
       "50"
      ]
     },
     "execution_count": 9,
     "metadata": {},
     "output_type": "execute_result"
    }
   ],
   "source": [
    "colunas_Factory = ['factories_id','factories_name','location'] \n",
    "df_Factory = df[colunas_Factory]\n",
    "df_Factory.drop_duplicates(inplace=True)\n",
    "df_Factory.to_sql('Factory', conn, if_exists='replace', index=False)"
   ]
  },
  {
   "cell_type": "code",
   "execution_count": 10,
   "id": "00aca39e-6205-4053-b1c0-a5fed55280ed",
   "metadata": {},
   "outputs": [
    {
     "name": "stderr",
     "output_type": "stream",
     "text": [
      "C:\\Users\\zefon\\AppData\\Local\\Temp\\ipykernel_13368\\1357253373.py:3: SettingWithCopyWarning: \n",
      "A value is trying to be set on a copy of a slice from a DataFrame\n",
      "\n",
      "See the caveats in the documentation: https://pandas.pydata.org/pandas-docs/stable/user_guide/indexing.html#returning-a-view-versus-a-copy\n",
      "  df_Machine.drop_duplicates(inplace=True)\n"
     ]
    },
    {
     "data": {
      "text/plain": [
       "198"
      ]
     },
     "execution_count": 10,
     "metadata": {},
     "output_type": "execute_result"
    }
   ],
   "source": [
    "colunas_Machine = ['machines_id','machines_type','capacity','purchase_date'] \n",
    "df_Machine = df[colunas_Machine]\n",
    "df_Machine.drop_duplicates(inplace=True)\n",
    "df_Machine.to_sql('Machine', conn, if_exists='replace', index=False)"
   ]
  },
  {
   "cell_type": "code",
   "execution_count": 8,
   "id": "43c72e19-d3d8-4aae-aab1-62b8be46e02d",
   "metadata": {},
   "outputs": [
    {
     "name": "stderr",
     "output_type": "stream",
     "text": [
      "C:\\Users\\zefon\\AppData\\Local\\Temp\\ipykernel_23880\\2078151871.py:3: SettingWithCopyWarning: \n",
      "A value is trying to be set on a copy of a slice from a DataFrame\n",
      "\n",
      "See the caveats in the documentation: https://pandas.pydata.org/pandas-docs/stable/user_guide/indexing.html#returning-a-view-versus-a-copy\n",
      "  df_MaintenanceLog.drop_duplicates(inplace=True)\n"
     ]
    },
    {
     "data": {
      "text/plain": [
       "800"
      ]
     },
     "execution_count": 8,
     "metadata": {},
     "output_type": "execute_result"
    }
   ],
   "source": [
    "colunas_MaintenanceLog = ['maintenancelogs_id','details_maintenancelogs','log_date','technician','maintenance_date'] \n",
    "df_MaintenanceLog = df[colunas_MaintenanceLog]\n",
    "df_MaintenanceLog.drop_duplicates(inplace=True)\n",
    "df_MaintenanceLog.to_sql('MaintenanceLog', conn, if_exists='replace', index=False)"
   ]
  },
  {
   "cell_type": "code",
   "execution_count": 15,
   "id": "ad2e0af5-3fb4-4174-b89b-ce036441d4b9",
   "metadata": {},
   "outputs": [
    {
     "name": "stderr",
     "output_type": "stream",
     "text": [
      "C:\\Users\\zefon\\AppData\\Local\\Temp\\ipykernel_13368\\351338307.py:3: SettingWithCopyWarning: \n",
      "A value is trying to be set on a copy of a slice from a DataFrame\n",
      "\n",
      "See the caveats in the documentation: https://pandas.pydata.org/pandas-docs/stable/user_guide/indexing.html#returning-a-view-versus-a-copy\n",
      "  df_Inventory.drop_duplicates(inplace=True)\n"
     ]
    },
    {
     "data": {
      "text/plain": [
       "775"
      ]
     },
     "execution_count": 15,
     "metadata": {},
     "output_type": "execute_result"
    }
   ],
   "source": [
    "colunas_Inventory = ['factories_id','machines_id']\n",
    "df_Inventory = df[colunas_Inventory]\n",
    "df_Inventory.drop_duplicates(inplace=True)\n",
    "df_Inventory.to_sql('Inventory', conn, if_exists='replace', index=False)"
   ]
  },
  {
   "cell_type": "code",
   "execution_count": null,
   "id": "ddfbf7f1-9852-4697-aeb7-a5cf326a35a8",
   "metadata": {},
   "outputs": [],
   "source": []
  }
 ],
 "metadata": {
  "kernelspec": {
   "display_name": "Python 3 (ipykernel)",
   "language": "python",
   "name": "python3"
  },
  "language_info": {
   "codemirror_mode": {
    "name": "ipython",
    "version": 3
   },
   "file_extension": ".py",
   "mimetype": "text/x-python",
   "name": "python",
   "nbconvert_exporter": "python",
   "pygments_lexer": "ipython3",
   "version": "3.12.7"
  }
 },
 "nbformat": 4,
 "nbformat_minor": 5
}
