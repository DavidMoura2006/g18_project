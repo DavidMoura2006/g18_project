{
  "nbformat": 4,
  "nbformat_minor": 0,
  "metadata": {
    "colab": {
      "provenance": []
    },
    "kernelspec": {
      "name": "python3",
      "display_name": "Python 3"
    },
    "language_info": {
      "name": "python"
    }
  },
  "cells": [
    {
      "cell_type": "code",
      "execution_count": null,
      "metadata": {
        "id": "xhoazYoXxuUi",
        "colab": {
          "base_uri": "https://localhost:8080/"
        },
        "outputId": "b849fefb-0cd3-46ee-cc23-ecc368b2c9fe"
      },
      "outputs": [
        {
          "output_type": "stream",
          "name": "stdout",
          "text": [
            "Mounted at /content/drive\n"
          ]
        }
      ],
      "source": [
        "from g\n",
        "drive.mount('/content/drive')oogle.colab import drive\n"
      ]
    },
    {
      "cell_type": "code",
      "source": [
        "import os\n",
        "os.chdir('/content/drive/MyDrive/trabalho de grupo/spyder/classes_criadas')\n",
        "\n",
        "from factorys import Factory\n",
        "from machines import Machine\n",
        "from maintenancelog import MaintenanceLog\n",
        "from inventory_6 import Inventory  # ou o nome atualizado do teu ficheiro inventory\n",
        "\n",
        "# Criar instâncias de Factory e Machine\n",
        "f1 = Factory(1, \"Fábrica Teste\", \"Lisboa\")\n",
        "m1 = Machine(1, \"Máquina Teste\", 100, \"01/01/2021\")\n",
        "\n",
        "# Criar log de manutenção\n",
        "log1 = MaintenanceLog(\n",
        "    1,                # id\n",
        "    \"preventiva\",     # tipo\n",
        "    \"Limpeza\",        # descrição\n",
        "    1,                # machines_id\n",
        "    \"01/03/2024\"      # data_manutencao\n",
        ")\n",
        "\n",
        "# Criar um inventário\n",
        "inv = Inventory(1, 1, 1)  # id, factory_id, machine_id\n",
        "\n",
        "print(inv)\n",
        "print(f\"Factories: {Factory.lst}\")\n",
        "print(f\"Machines: {Machine.lst}\")\n",
        "print(f\"Logs: {MaintenanceLog.lst}\")\n"
      ],
      "metadata": {
        "colab": {
          "base_uri": "https://localhost:8080/",
          "height": 371
        },
        "id": "cOsACprzzrgf",
        "outputId": "6113fb52-0b02-4755-ec91-d7ab863aaab4"
      },
      "execution_count": null,
      "outputs": [
        {
          "output_type": "error",
          "ename": "ValueError",
          "evalue": "time data 'Limpeza' does not match format '%d/%m/%Y'",
          "traceback": [
            "\u001b[0;31m---------------------------------------------------------------------------\u001b[0m",
            "\u001b[0;31mValueError\u001b[0m                                Traceback (most recent call last)",
            "\u001b[0;32m<ipython-input-6-6ffbed95bd5a>\u001b[0m in \u001b[0;36m<cell line: 0>\u001b[0;34m()\u001b[0m\n\u001b[1;32m     12\u001b[0m \u001b[0;34m\u001b[0m\u001b[0m\n\u001b[1;32m     13\u001b[0m \u001b[0;31m# Criar log de manutenção\u001b[0m\u001b[0;34m\u001b[0m\u001b[0;34m\u001b[0m\u001b[0m\n\u001b[0;32m---> 14\u001b[0;31m log1 = MaintenanceLog(\n\u001b[0m\u001b[1;32m     15\u001b[0m     \u001b[0;36m1\u001b[0m\u001b[0;34m,\u001b[0m                \u001b[0;31m# id\u001b[0m\u001b[0;34m\u001b[0m\u001b[0;34m\u001b[0m\u001b[0m\n\u001b[1;32m     16\u001b[0m     \u001b[0;34m\"preventiva\"\u001b[0m\u001b[0;34m,\u001b[0m     \u001b[0;31m# tipo\u001b[0m\u001b[0;34m\u001b[0m\u001b[0;34m\u001b[0m\u001b[0m\n",
            "\u001b[0;32m/content/drive/.shortcut-targets-by-id/1-EyJjEgVyLGiY-27XHsuygeC5wHbLQj0/trabalho de grupo/spyder/classes_criadas/maintenancelog.py\u001b[0m in \u001b[0;36m__init__\u001b[0;34m(self, id, details, data_log, tecnicos, data_manutencao)\u001b[0m\n\u001b[1;32m     20\u001b[0m         \u001b[0mself\u001b[0m\u001b[0;34m.\u001b[0m\u001b[0m_maintenance_id\u001b[0m \u001b[0;34m=\u001b[0m \u001b[0mid\u001b[0m\u001b[0;34m\u001b[0m\u001b[0;34m\u001b[0m\u001b[0m\n\u001b[1;32m     21\u001b[0m         \u001b[0mself\u001b[0m\u001b[0;34m.\u001b[0m\u001b[0m_details\u001b[0m \u001b[0;34m=\u001b[0m \u001b[0mdetails\u001b[0m\u001b[0;34m\u001b[0m\u001b[0;34m\u001b[0m\u001b[0m\n\u001b[0;32m---> 22\u001b[0;31m         \u001b[0mself\u001b[0m\u001b[0;34m.\u001b[0m\u001b[0m_date_log\u001b[0m \u001b[0;34m=\u001b[0m \u001b[0mdatetime\u001b[0m\u001b[0;34m.\u001b[0m\u001b[0mdatetime\u001b[0m\u001b[0;34m.\u001b[0m\u001b[0mstrptime\u001b[0m\u001b[0;34m(\u001b[0m\u001b[0mdata_log\u001b[0m\u001b[0;34m,\u001b[0m \u001b[0;34m\"%d/%m/%Y\"\u001b[0m\u001b[0;34m)\u001b[0m\u001b[0;34m.\u001b[0m\u001b[0mdate\u001b[0m\u001b[0;34m(\u001b[0m\u001b[0;34m)\u001b[0m\u001b[0;34m\u001b[0m\u001b[0;34m\u001b[0m\u001b[0m\n\u001b[0m\u001b[1;32m     23\u001b[0m         \u001b[0mself\u001b[0m\u001b[0;34m.\u001b[0m\u001b[0m_technician\u001b[0m \u001b[0;34m=\u001b[0m \u001b[0mtecnicos\u001b[0m\u001b[0;34m\u001b[0m\u001b[0;34m\u001b[0m\u001b[0m\n\u001b[1;32m     24\u001b[0m         \u001b[0mself\u001b[0m\u001b[0;34m.\u001b[0m\u001b[0m_date_maintenance\u001b[0m \u001b[0;34m=\u001b[0m \u001b[0mdatetime\u001b[0m\u001b[0;34m.\u001b[0m\u001b[0mdatetime\u001b[0m\u001b[0;34m.\u001b[0m\u001b[0mstrptime\u001b[0m\u001b[0;34m(\u001b[0m\u001b[0mdata_manutencao\u001b[0m\u001b[0;34m,\u001b[0m \u001b[0;34m\"%d/%m/%Y\"\u001b[0m\u001b[0;34m)\u001b[0m\u001b[0;34m.\u001b[0m\u001b[0mdate\u001b[0m\u001b[0;34m(\u001b[0m\u001b[0;34m)\u001b[0m\u001b[0;34m\u001b[0m\u001b[0;34m\u001b[0m\u001b[0m\n",
            "\u001b[0;32m/usr/lib/python3.11/_strptime.py\u001b[0m in \u001b[0;36m_strptime_datetime\u001b[0;34m(cls, data_string, format)\u001b[0m\n\u001b[1;32m    565\u001b[0m     \"\"\"Return a class cls instance based on the input string and the\n\u001b[1;32m    566\u001b[0m     format string.\"\"\"\n\u001b[0;32m--> 567\u001b[0;31m     \u001b[0mtt\u001b[0m\u001b[0;34m,\u001b[0m \u001b[0mfraction\u001b[0m\u001b[0;34m,\u001b[0m \u001b[0mgmtoff_fraction\u001b[0m \u001b[0;34m=\u001b[0m \u001b[0m_strptime\u001b[0m\u001b[0;34m(\u001b[0m\u001b[0mdata_string\u001b[0m\u001b[0;34m,\u001b[0m \u001b[0mformat\u001b[0m\u001b[0;34m)\u001b[0m\u001b[0;34m\u001b[0m\u001b[0;34m\u001b[0m\u001b[0m\n\u001b[0m\u001b[1;32m    568\u001b[0m     \u001b[0mtzname\u001b[0m\u001b[0;34m,\u001b[0m \u001b[0mgmtoff\u001b[0m \u001b[0;34m=\u001b[0m \u001b[0mtt\u001b[0m\u001b[0;34m[\u001b[0m\u001b[0;34m-\u001b[0m\u001b[0;36m2\u001b[0m\u001b[0;34m:\u001b[0m\u001b[0;34m]\u001b[0m\u001b[0;34m\u001b[0m\u001b[0;34m\u001b[0m\u001b[0m\n\u001b[1;32m    569\u001b[0m     \u001b[0margs\u001b[0m \u001b[0;34m=\u001b[0m \u001b[0mtt\u001b[0m\u001b[0;34m[\u001b[0m\u001b[0;34m:\u001b[0m\u001b[0;36m6\u001b[0m\u001b[0;34m]\u001b[0m \u001b[0;34m+\u001b[0m \u001b[0;34m(\u001b[0m\u001b[0mfraction\u001b[0m\u001b[0;34m,\u001b[0m\u001b[0;34m)\u001b[0m\u001b[0;34m\u001b[0m\u001b[0;34m\u001b[0m\u001b[0m\n",
            "\u001b[0;32m/usr/lib/python3.11/_strptime.py\u001b[0m in \u001b[0;36m_strptime\u001b[0;34m(data_string, format)\u001b[0m\n\u001b[1;32m    347\u001b[0m     \u001b[0mfound\u001b[0m \u001b[0;34m=\u001b[0m \u001b[0mformat_regex\u001b[0m\u001b[0;34m.\u001b[0m\u001b[0mmatch\u001b[0m\u001b[0;34m(\u001b[0m\u001b[0mdata_string\u001b[0m\u001b[0;34m)\u001b[0m\u001b[0;34m\u001b[0m\u001b[0;34m\u001b[0m\u001b[0m\n\u001b[1;32m    348\u001b[0m     \u001b[0;32mif\u001b[0m \u001b[0;32mnot\u001b[0m \u001b[0mfound\u001b[0m\u001b[0;34m:\u001b[0m\u001b[0;34m\u001b[0m\u001b[0;34m\u001b[0m\u001b[0m\n\u001b[0;32m--> 349\u001b[0;31m         raise ValueError(\"time data %r does not match format %r\" %\n\u001b[0m\u001b[1;32m    350\u001b[0m                          (data_string, format))\n\u001b[1;32m    351\u001b[0m     \u001b[0;32mif\u001b[0m \u001b[0mlen\u001b[0m\u001b[0;34m(\u001b[0m\u001b[0mdata_string\u001b[0m\u001b[0;34m)\u001b[0m \u001b[0;34m!=\u001b[0m \u001b[0mfound\u001b[0m\u001b[0;34m.\u001b[0m\u001b[0mend\u001b[0m\u001b[0;34m(\u001b[0m\u001b[0;34m)\u001b[0m\u001b[0;34m:\u001b[0m\u001b[0;34m\u001b[0m\u001b[0;34m\u001b[0m\u001b[0m\n",
            "\u001b[0;31mValueError\u001b[0m: time data 'Limpeza' does not match format '%d/%m/%Y'"
          ]
        }
      ]
    },
    {
      "cell_type": "code",
      "source": [
        "from google.colab import drive\n",
        "drive.mount('/content/drive')"
      ],
      "metadata": {
        "colab": {
          "base_uri": "https://localhost:8080/"
        },
        "id": "OygAqO2YqNci",
        "outputId": "bee64461-07f4-4600-bc15-3e623133ca92"
      },
      "execution_count": null,
      "outputs": [
        {
          "output_type": "stream",
          "name": "stdout",
          "text": [
            "Mounted at /content/drive\n"
          ]
        }
      ]
    },
    {
      "cell_type": "code",
      "source": [
        "import os\n",
        "os.chdir('/content/drive/MyDrive/trabalho de grupo/spyder/classes_criadas')\n",
        "\n",
        "from factorys import Factory\n",
        "from machines import Machine\n",
        "from maintenancelog import MaintenanceLog\n",
        "from inventory_6 import Inventory  # ou o nome atualizado do teu ficheiro inventory\n",
        "\n",
        "# Criar instâncias de Factory e Machine\n",
        "f1 = Factory(1, \"Fábrica Teste\", \"Lisboa\")\n",
        "m1 = Machine(1, \"Máquina Teste\", 100, \"01/01/2021\")\n",
        "\n",
        "# Criar log de manutenção\n",
        "log1 = MaintenanceLog(1, \"Limpeza geral\", \"01/03/2024\", \"António\", \"03/03/2024\")\n",
        "\n",
        "# Criar um inventário\n",
        "inv = Inventory(1, 1, 1)  # id, factory_id, machine_id\n",
        "\n",
        "print(inv)\n",
        "print(f\"Factories: {Factory.lst}\")\n",
        "print(f\"Machines: {Machine.lst}\")\n",
        "print(f\"Logs: {MaintenanceLog.lst}\")\n"
      ],
      "metadata": {
        "colab": {
          "base_uri": "https://localhost:8080/"
        },
        "id": "P7Axp0aTqvp4",
        "outputId": "929142f2-95eb-496f-bc0b-22f539d43d83"
      },
      "execution_count": null,
      "outputs": [
        {
          "output_type": "stream",
          "name": "stdout",
          "text": [
            "1;1;1\n",
            "Factories: [1, 1]\n",
            "Machines: [1, 1]\n",
            "Logs: [1]\n"
          ]
        }
      ]
    }
  ]
}